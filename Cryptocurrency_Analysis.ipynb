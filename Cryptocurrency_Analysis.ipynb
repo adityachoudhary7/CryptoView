{
 "cells": [
  {
   "cell_type": "markdown",
   "metadata": {
    "id": "-bHKg72FulvO"
   },
   "source": [
    "# Scraping Crypto Data"
   ]
  },
  {
   "cell_type": "markdown",
   "metadata": {
    "id": "HjryxDMzuhPd"
   },
   "source": [
    "## Install cryptocmd"
   ]
  },
  {
   "cell_type": "code",
   "execution_count": null,
   "metadata": {
    "id": "GgSvAoiSbE1L"
   },
   "outputs": [],
   "source": [
    "!pip install cryptocmd"
   ]
  },
  {
   "cell_type": "markdown",
   "metadata": {
    "id": "pU0Ok-2ERyXU"
   },
   "source": [
    "## List of the popular Cryptocurrencies:"
   ]
  },
  {
   "cell_type": "code",
   "execution_count": null,
   "metadata": {
    "id": "Scl7hTTO0xfy"
   },
   "outputs": [],
   "source": [
    "crypto_list=[\"BTC\",\"ETH\",\"USDT\",\"BNB\",\"USDC\",\"XRP\",\"ADA\",\"DOGE\",\"SOL\",\"MATIC\",\"LTC\",\"TRX\",\"DOT\",\"BUSD\",\"SHIB\",\"AVAX\",\"DAI\",\"WBTC\",\"LINK\",\"LEO\"]"
   ]
  },
  {
   "cell_type": "markdown",
   "metadata": {
    "id": "1RSGTRfU80j9"
   },
   "source": [
    "## Importing the necessary libraries, including cryptocmd and pandas:"
   ]
  },
  {
   "cell_type": "code",
   "execution_count": null,
   "metadata": {
    "id": "BOMKx5cXF8zD"
   },
   "outputs": [],
   "source": [
    "import pandas as pd\n",
    "from cryptocmd import CmcScraper"
   ]
  },
  {
   "cell_type": "markdown",
   "metadata": {
    "id": "o3O8l6FzYs4W"
   },
   "source": [
    "## Iterating through each ticker in the crypto_list:"
   ]
  },
  {
   "cell_type": "code",
   "execution_count": null,
   "metadata": {
    "id": "arfHc4usFo3i"
   },
   "outputs": [],
   "source": [
    "for ticker in crypto_list:\n",
    "\n",
    "  # Setting the ticker symbol\n",
    "  ticker_symbol = ticker\n",
    "\n",
    "  # Creating a CmcScraper object for the given ticker symbol and date range\n",
    "  scraper = CmcScraper(ticker,\"01-01-2009\",\"09-07-2023\")\n",
    "\n",
    "  # Getting the data as a pandas DataFrame\n",
    "  df = scraper.get_dataframe()\n",
    "\n",
    "  # Creating a new DataFrame for daily data\n",
    "  day_data=pd.DataFrame(df)\n",
    "\n",
    "  # Setting the date as the index\n",
    "  day_data.set_index(\"Date\", inplace=True)\n",
    "\n",
    "  # Converting the index to datetime format\n",
    "  day_data.index = pd.to_datetime(day_data.index, unit='D')\n",
    "\n",
    "  # Extracting the date from the datetime index and formatting it as \"DD-MM-YYYY\"\n",
    "  day_data['datetimes'] = day_data.index\n",
    "  day_data['datetimes'] = day_data['datetimes'].dt.strftime('%d-%m-%Y')\n",
    "\n",
    "  # Adding the ticker symbol as a column in the DataFrame\n",
    "  day_data[\"ticker_symbol\"]=ticker_symbol\n",
    "\n",
    "  # Selecting the columns for the DataFrame\n",
    "  df=day_data[[\"ticker_symbol\",\"Open\",\"High\",\"Low\",\"Close\",\"Volume\",\"Market Cap\"]]\n",
    "\n",
    "  # Appending the DataFrame to the CryptoData CSV file\n",
    "  df.to_csv(\"CryptoData.csv\",mode='a',header=False) "
   ]
  }
 ],
 "metadata": {
  "colab": {
   "provenance": []
  },
  "kernelspec": {
   "display_name": "Python 3 (ipykernel)",
   "language": "python",
   "name": "python3"
  },
  "language_info": {
   "codemirror_mode": {
    "name": "ipython",
    "version": 3
   },
   "file_extension": ".py",
   "mimetype": "text/x-python",
   "name": "python",
   "nbconvert_exporter": "python",
   "pygments_lexer": "ipython3",
   "version": "3.11.1"
  }
 },
 "nbformat": 4,
 "nbformat_minor": 1
}
